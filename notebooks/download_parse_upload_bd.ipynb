{
 "cells": [
  {
   "cell_type": "code",
   "execution_count": 2,
   "metadata": {},
   "outputs": [],
   "source": [
    "# For changes in .py\n",
    "%reload_ext autoreload\n",
    "%autoreload 2\n",
    "\n",
    "import numpy as np\n",
    "import pandas as pd\n",
    "import os\n",
    "\n",
    "pd.options.display.max_columns = 999\n",
    "pd.options.display.max_rows = 1999\n",
    "pd.options.display.max_colwidth = 200\n",
    "\n",
    "import warnings\n",
    "warnings.filterwarnings('ignore')\n",
    "\n",
    "import sys\n",
    "sys.path.insert(0, \"../\")\n",
    "\n",
    "from scripts import manipulation, alesp_parser, alesp_tamitacao_parser\n",
    "\n",
    "import basedosdados as bd\n",
    "\n"
   ]
  },
  {
   "cell_type": "code",
   "execution_count": null,
   "metadata": {},
   "outputs": [],
   "source": []
  },
  {
   "cell_type": "markdown",
   "metadata": {},
   "source": [
    "## Deputados\n",
    "\n",
    "Possíveis valores para o campo Situacao\n",
    "- 'REL' = Renunciou para assumir outro cargo eletivo\n",
    "- 'OUT' = Outros'FAL' = Falecido\n",
    "- 'REN' = Renunciou'LIC' = Licenciado\n",
    "- 'EXE' = No exercíciodo mandato\n",
    "- 'CAS' = Cassado\n",
    "- '   ' = Não categorizad"
   ]
  },
  {
   "cell_type": "code",
   "execution_count": 3,
   "metadata": {},
   "outputs": [
    {
     "data": {
      "text/plain": [
       "'ESCOLAS ESTADUAIS'"
      ]
     },
     "execution_count": 3,
     "metadata": {},
     "output_type": "execute_result"
    }
   ],
   "source": [
    "'Escolas Estaduais'.upper()"
   ]
  },
  {
   "cell_type": "code",
   "execution_count": 4,
   "metadata": {},
   "outputs": [
    {
     "name": "stdout",
     "output_type": "stream",
     "text": [
      "CPU times: user 1.28 s, sys: 6.27 ms, total: 1.28 s\n",
      "Wall time: 1.56 s\n"
     ]
    }
   ],
   "source": [
    "%%time\n",
    "deputados = alesp_parser.parse_deputados()\n",
    "\n"
   ]
  },
  {
   "cell_type": "code",
   "execution_count": null,
   "metadata": {},
   "outputs": [],
   "source": []
  },
  {
   "cell_type": "code",
   "execution_count": 82,
   "metadata": {},
   "outputs": [
    {
     "name": "stderr",
     "output_type": "stream",
     "text": [
      "Uploading files: 100%|██████████| 1/1 [00:00<00:00,  1.09it/s]\n"
     ]
    }
   ],
   "source": [
    "tb = bd.Table('deputados','br_sp_alesp')\n",
    "tb.create(\n",
    "    path='../data/servidores/deputados_alesp.csv',\n",
    "    if_table_exists='replace',\n",
    "    if_storage_data_exists='replace',\n",
    "    if_table_config_exists='pass'\n",
    ")\n"
   ]
  },
  {
   "cell_type": "code",
   "execution_count": 83,
   "metadata": {},
   "outputs": [],
   "source": [
    "tb.publish('replace')"
   ]
  },
  {
   "cell_type": "code",
   "execution_count": null,
   "metadata": {},
   "outputs": [],
   "source": []
  },
  {
   "cell_type": "markdown",
   "metadata": {},
   "source": [
    "## Servidores"
   ]
  },
  {
   "cell_type": "code",
   "execution_count": 88,
   "metadata": {},
   "outputs": [
    {
     "name": "stdout",
     "output_type": "stream",
     "text": [
      "CPU times: user 432 ms, sys: 25.4 ms, total: 457 ms\n",
      "Wall time: 941 ms\n"
     ]
    }
   ],
   "source": [
    "%%time\n",
    "servidores, liderancas = alesp_parser.parse_servidores()"
   ]
  },
  {
   "cell_type": "code",
   "execution_count": null,
   "metadata": {},
   "outputs": [],
   "source": []
  },
  {
   "cell_type": "code",
   "execution_count": 89,
   "metadata": {},
   "outputs": [
    {
     "name": "stderr",
     "output_type": "stream",
     "text": [
      "Uploading files: 100%|██████████| 1/1 [00:00<00:00,  1.06it/s]\n"
     ]
    }
   ],
   "source": [
    "tb = bd.Table('assessores_parlamentares','br_sp_alesp')\n",
    "tb.create(\n",
    "    path='../data/servidores/assessores_parlamentares.csv',\n",
    "    if_table_exists='replace',\n",
    "    if_storage_data_exists='replace',\n",
    "    if_table_config_exists='pass'\n",
    ")\n",
    "tb.publish('replace')"
   ]
  },
  {
   "cell_type": "code",
   "execution_count": null,
   "metadata": {},
   "outputs": [],
   "source": []
  },
  {
   "cell_type": "code",
   "execution_count": 90,
   "metadata": {},
   "outputs": [
    {
     "name": "stderr",
     "output_type": "stream",
     "text": [
      "Uploading files: 100%|██████████| 1/1 [00:00<00:00,  1.22it/s]\n"
     ]
    }
   ],
   "source": [
    "tb = bd.Table('assessores_lideranca','br_sp_alesp')\n",
    "tb.create(\n",
    "    path='../data/servidores/assessores_lideranca.csv',\n",
    "    if_table_exists='replace',\n",
    "    if_storage_data_exists='replace',\n",
    "    if_table_config_exists='pass'\n",
    ")\n",
    "tb.publish('replace')"
   ]
  },
  {
   "cell_type": "code",
   "execution_count": null,
   "metadata": {},
   "outputs": [],
   "source": []
  },
  {
   "cell_type": "code",
   "execution_count": null,
   "metadata": {},
   "outputs": [],
   "source": []
  },
  {
   "cell_type": "code",
   "execution_count": 91,
   "metadata": {},
   "outputs": [
    {
     "data": {
      "text/html": [
       "<div>\n",
       "<style scoped>\n",
       "    .dataframe tbody tr th:only-of-type {\n",
       "        vertical-align: middle;\n",
       "    }\n",
       "\n",
       "    .dataframe tbody tr th {\n",
       "        vertical-align: top;\n",
       "    }\n",
       "\n",
       "    .dataframe thead th {\n",
       "        text-align: right;\n",
       "    }\n",
       "</style>\n",
       "<table border=\"1\" class=\"dataframe\">\n",
       "  <thead>\n",
       "    <tr style=\"text-align: right;\">\n",
       "      <th></th>\n",
       "      <th>nome_deputado</th>\n",
       "      <th>sigla_partido</th>\n",
       "      <th>servidor</th>\n",
       "      <th>cargo</th>\n",
       "      <th>lotacao</th>\n",
       "      <th>regime</th>\n",
       "    </tr>\n",
       "  </thead>\n",
       "  <tbody>\n",
       "    <tr>\n",
       "      <th>0</th>\n",
       "      <td>ADALBERTO FREITAS</td>\n",
       "      <td>PSL</td>\n",
       "      <td>ADA MARIA DA SILVA</td>\n",
       "      <td>ASSISTENTE ESPECIAL PARLAMENTAR</td>\n",
       "      <td>GABINETE DEP. ADALBERTO FREITAS</td>\n",
       "      <td>COMISSAO</td>\n",
       "    </tr>\n",
       "    <tr>\n",
       "      <th>1</th>\n",
       "      <td>ADALBERTO FREITAS</td>\n",
       "      <td>PSL</td>\n",
       "      <td>ALEX OLIVEIRA MATOS</td>\n",
       "      <td>ASSISTENTE PARLAMENTAR VII</td>\n",
       "      <td>GABINETE DEP. ADALBERTO FREITAS</td>\n",
       "      <td>COMISSAO</td>\n",
       "    </tr>\n",
       "    <tr>\n",
       "      <th>2</th>\n",
       "      <td>ADALBERTO FREITAS</td>\n",
       "      <td>PSL</td>\n",
       "      <td>CARINA APARECIDA DE OLIVEIRA</td>\n",
       "      <td>ASSESSOR PARLAMENTAR II</td>\n",
       "      <td>GABINETE DEP. ADALBERTO FREITAS</td>\n",
       "      <td>COMISSAO</td>\n",
       "    </tr>\n",
       "    <tr>\n",
       "      <th>3</th>\n",
       "      <td>ADALBERTO FREITAS</td>\n",
       "      <td>PSL</td>\n",
       "      <td>EDI GOMES RIBEIRO</td>\n",
       "      <td>ASSISTENTE PARLAMENTAR VI</td>\n",
       "      <td>GABINETE DEP. ADALBERTO FREITAS</td>\n",
       "      <td>COMISSAO</td>\n",
       "    </tr>\n",
       "    <tr>\n",
       "      <th>4</th>\n",
       "      <td>ADALBERTO FREITAS</td>\n",
       "      <td>PSL</td>\n",
       "      <td>EMANUELA SIQUEIRA DA SILVA</td>\n",
       "      <td>AUXILIAR PARLAMENTAR</td>\n",
       "      <td>GABINETE DEP. ADALBERTO FREITAS</td>\n",
       "      <td>COMISSAO</td>\n",
       "    </tr>\n",
       "  </tbody>\n",
       "</table>\n",
       "</div>"
      ],
      "text/plain": [
       "       nome_deputado sigla_partido                      servidor  \\\n",
       "0  ADALBERTO FREITAS           PSL            ADA MARIA DA SILVA   \n",
       "1  ADALBERTO FREITAS           PSL           ALEX OLIVEIRA MATOS   \n",
       "2  ADALBERTO FREITAS           PSL  CARINA APARECIDA DE OLIVEIRA   \n",
       "3  ADALBERTO FREITAS           PSL             EDI GOMES RIBEIRO   \n",
       "4  ADALBERTO FREITAS           PSL    EMANUELA SIQUEIRA DA SILVA   \n",
       "\n",
       "                             cargo                          lotacao    regime  \n",
       "0  ASSISTENTE ESPECIAL PARLAMENTAR  GABINETE DEP. ADALBERTO FREITAS  COMISSAO  \n",
       "1       ASSISTENTE PARLAMENTAR VII  GABINETE DEP. ADALBERTO FREITAS  COMISSAO  \n",
       "2          ASSESSOR PARLAMENTAR II  GABINETE DEP. ADALBERTO FREITAS  COMISSAO  \n",
       "3        ASSISTENTE PARLAMENTAR VI  GABINETE DEP. ADALBERTO FREITAS  COMISSAO  \n",
       "4             AUXILIAR PARLAMENTAR  GABINETE DEP. ADALBERTO FREITAS  COMISSAO  "
      ]
     },
     "execution_count": 91,
     "metadata": {},
     "output_type": "execute_result"
    }
   ],
   "source": [
    "servidores.head()"
   ]
  },
  {
   "cell_type": "markdown",
   "metadata": {},
   "source": [
    "## Despesas ALL\n",
    "\n",
    "https://www.al.sp.gov.br/dados-abertos/recurso/21"
   ]
  },
  {
   "cell_type": "code",
   "execution_count": 118,
   "metadata": {},
   "outputs": [
    {
     "name": "stdout",
     "output_type": "stream",
     "text": [
      "Despesas ALL done!\n",
      "Despesas Mandato done!\n",
      "CPU times: user 7.52 s, sys: 253 ms, total: 7.77 s\n",
      "Wall time: 8.54 s\n"
     ]
    }
   ],
   "source": [
    "%%time\n",
    "despesas_all, despesas_final  = alesp_parser.parse_despesas(False)"
   ]
  },
  {
   "cell_type": "code",
   "execution_count": 121,
   "metadata": {},
   "outputs": [
    {
     "name": "stderr",
     "output_type": "stream",
     "text": [
      "Uploading files: 100%|██████████| 1/1 [00:03<00:00,  3.42s/it]\n"
     ]
    }
   ],
   "source": [
    "tb = bd.Table('despesas_gabinete_atual','br_sp_alesp')\n",
    "tb.create(\n",
    "    path='../data/gastos/despesas_gabinetes_mandato.csv',\n",
    "    if_table_exists='replace',\n",
    "    if_storage_data_exists='replace',\n",
    "    if_table_config_exists='pass'\n",
    ")\n",
    "tb.publish('replace')"
   ]
  },
  {
   "cell_type": "code",
   "execution_count": 122,
   "metadata": {},
   "outputs": [
    {
     "name": "stderr",
     "output_type": "stream",
     "text": [
      "Uploading files: 100%|██████████| 19/19 [00:53<00:00,  2.83s/it]\n"
     ]
    }
   ],
   "source": [
    "tb = bd.Table('despesas_gabinete','br_sp_alesp')\n",
    "tb.create(\n",
    "    path='../data/gastos/despesas_gabinete/',\n",
    "    partitioned=True,\n",
    "    if_table_exists='replace',\n",
    "    if_storage_data_exists='replace',\n",
    "    if_table_config_exists='pass'\n",
    ")\n",
    "tb.publish('replace')"
   ]
  },
  {
   "cell_type": "code",
   "execution_count": null,
   "metadata": {},
   "outputs": [],
   "source": []
  },
  {
   "cell_type": "markdown",
   "metadata": {},
   "source": [
    "# Tramitacao"
   ]
  },
  {
   "cell_type": "markdown",
   "metadata": {},
   "source": [
    "https://www.al.sp.gov.br/dados-abertos/grupo/1"
   ]
  },
  {
   "cell_type": "markdown",
   "metadata": {},
   "source": [
    "## AUTORES\n",
    "\n",
    "Lista de deputados autores e apoiadores das proposituras.\n",
    "\n",
    "https://www.al.sp.gov.br/dados-abertos/recurso/81"
   ]
  },
  {
   "cell_type": "code",
   "execution_count": 111,
   "metadata": {},
   "outputs": [
    {
     "name": "stdout",
     "output_type": "stream",
     "text": [
      "CPU times: user 2.19 s, sys: 34 ms, total: 2.22 s\n",
      "Wall time: 2.37 s\n"
     ]
    }
   ],
   "source": [
    "%%time\n",
    "alesp_tamitacao_parser.parse_autores(False)"
   ]
  },
  {
   "cell_type": "code",
   "execution_count": 128,
   "metadata": {},
   "outputs": [
    {
     "name": "stderr",
     "output_type": "stream",
     "text": [
      "Uploading files: 100%|██████████| 1/1 [00:46<00:00, 46.06s/it]\n"
     ]
    }
   ],
   "source": [
    "tb = bd.Table('tramitacao_documento_autor','br_sp_alesp')\n",
    "tb.create(\n",
    "    path='../data/tramitacoes/documento_autor.csv',\n",
    "    if_table_exists='replace',\n",
    "    if_storage_data_exists='replace',\n",
    "    if_table_config_exists='replace'\n",
    ")\n",
    "tb.publish('replace')"
   ]
  },
  {
   "cell_type": "code",
   "execution_count": null,
   "metadata": {},
   "outputs": [],
   "source": []
  },
  {
   "cell_type": "markdown",
   "metadata": {},
   "source": [
    "## Comissoes\n",
    "\n",
    "https://www.al.sp.gov.br/dados-abertos/recurso/43"
   ]
  },
  {
   "cell_type": "code",
   "execution_count": 133,
   "metadata": {},
   "outputs": [
    {
     "name": "stdout",
     "output_type": "stream",
     "text": [
      "CPU times: user 4.36 ms, sys: 17 µs, total: 4.38 ms\n",
      "Wall time: 4.27 ms\n"
     ]
    }
   ],
   "source": [
    "%%time\n",
    "alesp_tamitacao_parser.parse_comissoes(False)"
   ]
  },
  {
   "cell_type": "code",
   "execution_count": 135,
   "metadata": {},
   "outputs": [
    {
     "name": "stderr",
     "output_type": "stream",
     "text": [
      "Uploading files: 100%|██████████| 1/1 [00:01<00:00,  1.13s/it]\n"
     ]
    }
   ],
   "source": [
    "tb = bd.Table('tramitacao_comissoes','br_sp_alesp')\n",
    "tb.create(\n",
    "    path='../data/tramitacoes/comissoes.csv',\n",
    "    if_table_exists='replace',\n",
    "    if_storage_data_exists='replace',\n",
    "    if_table_config_exists='replace'\n",
    ")\n",
    "tb.publish('replace')"
   ]
  },
  {
   "cell_type": "code",
   "execution_count": null,
   "metadata": {},
   "outputs": [],
   "source": []
  },
  {
   "cell_type": "markdown",
   "metadata": {},
   "source": [
    "## Deliberações nas Comissões\n",
    "\n",
    "\n",
    "Lista das deliberações sobre as matérias que tramitam nas Comissões Permanentes da Alesp.\n",
    "\n",
    "https://www.al.sp.gov.br/dados-abertos/recurso/52\n"
   ]
  },
  {
   "cell_type": "code",
   "execution_count": 145,
   "metadata": {},
   "outputs": [
    {
     "name": "stdout",
     "output_type": "stream",
     "text": [
      "CPU times: user 105 ms, sys: 16 ms, total: 121 ms\n",
      "Wall time: 142 ms\n"
     ]
    }
   ],
   "source": [
    "%%time\n",
    "alesp_tamitacao_parser.parse_deliberacoes_comissoes(False)"
   ]
  },
  {
   "cell_type": "code",
   "execution_count": 147,
   "metadata": {},
   "outputs": [
    {
     "name": "stderr",
     "output_type": "stream",
     "text": [
      "Uploading files: 100%|██████████| 1/1 [00:05<00:00,  5.71s/it]\n"
     ]
    }
   ],
   "source": [
    "tb = bd.Table('tramitacao_comissoes_permanentes_deliberacoes','br_sp_alesp')    \n",
    "tb.create(\n",
    "    path='../data/tramitacoes/comissoes_permanentes_deliberacoes.csv',\n",
    "    if_table_exists='replace',\n",
    "    if_storage_data_exists='replace',\n",
    "    if_table_config_exists='replace'\n",
    ")\n",
    "tb.publish('replace')"
   ]
  },
  {
   "cell_type": "code",
   "execution_count": null,
   "metadata": {},
   "outputs": [],
   "source": []
  },
  {
   "cell_type": "markdown",
   "metadata": {},
   "source": [
    "## Membros de Comissões Permanentes\n",
    "\n",
    "\n",
    "Lista de membros das Comissões da Alesp.\n",
    "\n",
    "https://www.al.sp.gov.br/dados-abertos/recurso/45"
   ]
  },
  {
   "cell_type": "code",
   "execution_count": 154,
   "metadata": {},
   "outputs": [
    {
     "name": "stdout",
     "output_type": "stream",
     "text": [
      "CPU times: user 19.4 ms, sys: 4.24 ms, total: 23.7 ms\n",
      "Wall time: 27.6 ms\n"
     ]
    }
   ],
   "source": [
    "%%time\n",
    "alesp_tamitacao_parser.parse_comissoes_membros(False)"
   ]
  },
  {
   "cell_type": "code",
   "execution_count": 156,
   "metadata": {},
   "outputs": [
    {
     "name": "stderr",
     "output_type": "stream",
     "text": [
      "Uploading files: 100%|██████████| 1/1 [00:01<00:00,  1.53s/it]\n"
     ]
    }
   ],
   "source": [
    "tb = bd.Table('tramitacao_comissoes_membros','br_sp_alesp')\n",
    "    \n",
    "tb.create(\n",
    "    path='../data/tramitacoes/comissoes_membros.csv',\n",
    "    if_table_exists='replace',\n",
    "    if_storage_data_exists='replace',\n",
    "    if_table_config_exists='replace'\n",
    ")\n",
    "tb.publish('replace')"
   ]
  },
  {
   "cell_type": "code",
   "execution_count": null,
   "metadata": {},
   "outputs": [],
   "source": []
  },
  {
   "cell_type": "markdown",
   "metadata": {},
   "source": [
    "## Natureza do Documento\n",
    "\n",
    "\n",
    "Lista das naturezas (tipos) dos documentos que fazem parte do Processo Legislativo\n",
    "\n",
    "https://www.al.sp.gov.br/dados-abertos/recurso/44"
   ]
  },
  {
   "cell_type": "code",
   "execution_count": 161,
   "metadata": {},
   "outputs": [
    {
     "name": "stdout",
     "output_type": "stream",
     "text": [
      "CPU times: user 4.93 ms, sys: 0 ns, total: 4.93 ms\n",
      "Wall time: 4.79 ms\n"
     ]
    }
   ],
   "source": [
    "%%time\n",
    "alesp_tamitacao_parser.parse_naturezasSpl(download=False)"
   ]
  },
  {
   "cell_type": "code",
   "execution_count": 163,
   "metadata": {},
   "outputs": [
    {
     "name": "stderr",
     "output_type": "stream",
     "text": [
      "Uploading files: 100%|██████████| 1/1 [00:01<00:00,  1.11s/it]\n"
     ]
    }
   ],
   "source": [
    "tb = bd.Table('tramitacao_natureza','br_sp_alesp')\n",
    "    \n",
    "tb.create(\n",
    "    path='../data/tramitacoes/naturezasSpl.csv',\n",
    "    if_table_exists='replace',\n",
    "    if_storage_data_exists='replace',\n",
    "    if_table_config_exists='replace'\n",
    ")\n",
    "tb.publish('replace')"
   ]
  },
  {
   "cell_type": "code",
   "execution_count": 86,
   "metadata": {},
   "outputs": [],
   "source": []
  },
  {
   "cell_type": "code",
   "execution_count": null,
   "metadata": {},
   "outputs": [],
   "source": []
  },
  {
   "cell_type": "markdown",
   "metadata": {},
   "source": [
    "## Documentos Palavras Chave\n",
    "Lista de palavras-chave associadas aos documentos e proposituras que tramitam no processo legislativo. Essa indexação é realizada pela Divisão de Biblioteca e Documentação.\n",
    "\n",
    "https://www.al.sp.gov.br/dados-abertos/recurso/42"
   ]
  },
  {
   "cell_type": "code",
   "execution_count": 168,
   "metadata": {},
   "outputs": [
    {
     "name": "stdout",
     "output_type": "stream",
     "text": [
      "CPU times: user 1.56 s, sys: 65.4 ms, total: 1.63 s\n",
      "Wall time: 1.78 s\n"
     ]
    }
   ],
   "source": [
    "%%time\n",
    "alesp_tamitacao_parser.parse_documento_palavras(False)"
   ]
  },
  {
   "cell_type": "code",
   "execution_count": 170,
   "metadata": {},
   "outputs": [
    {
     "name": "stderr",
     "output_type": "stream",
     "text": [
      "Uploading files: 100%|██████████| 1/1 [00:32<00:00, 32.92s/it]\n"
     ]
    }
   ],
   "source": [
    "tb = bd.Table('tramitacao_documento_palavras_chave','br_sp_alesp')\n",
    "    \n",
    "tb.create(\n",
    "    path='../data/tramitacoes/documento_palavras.csv',\n",
    "    if_table_exists='replace',\n",
    "    if_storage_data_exists='replace',\n",
    "    if_table_config_exists='replace'\n",
    ")\n",
    "tb.publish('replace')"
   ]
  },
  {
   "cell_type": "code",
   "execution_count": null,
   "metadata": {},
   "outputs": [],
   "source": []
  },
  {
   "cell_type": "markdown",
   "metadata": {},
   "source": [
    "## Index Palavras Chave\n",
    "Lista de palavras-chave que podem ser associadas aos documentos que tramitam no Processo Legislativo no sistema SPL. A lista é definida e a indexação realizada pela equipe do DDI (Departamento de Documentação e Informação) e da DBD (Divisão de Biblioteca e Documentação) Alesp.\n",
    "\n",
    "https://www.al.sp.gov.br/dados-abertos/recurso/41"
   ]
  },
  {
   "cell_type": "code",
   "execution_count": 179,
   "metadata": {},
   "outputs": [
    {
     "name": "stdout",
     "output_type": "stream",
     "text": [
      "CPU times: user 111 ms, sys: 4.63 ms, total: 116 ms\n",
      "Wall time: 133 ms\n"
     ]
    }
   ],
   "source": [
    "%%time\n",
    "alesp_tamitacao_parser.parse_documento_index_palavras(False)"
   ]
  },
  {
   "cell_type": "code",
   "execution_count": 180,
   "metadata": {},
   "outputs": [
    {
     "name": "stderr",
     "output_type": "stream",
     "text": [
      "Uploading files: 100%|██████████| 1/1 [00:06<00:00,  6.01s/it]\n"
     ]
    }
   ],
   "source": [
    "tb = bd.Table('tramitacao_index_palavras_chave','br_sp_alesp')\n",
    "    \n",
    "tb.create(\n",
    "    path='../data/tramitacoes/index_palavras_chave.csv',\n",
    "    if_table_exists='replace',\n",
    "    if_storage_data_exists='replace',\n",
    "    if_table_config_exists='replace'\n",
    ")\n",
    "tb.publish('replace')"
   ]
  },
  {
   "cell_type": "code",
   "execution_count": null,
   "metadata": {},
   "outputs": [],
   "source": []
  },
  {
   "cell_type": "markdown",
   "metadata": {},
   "source": [
    "## Pareceres\n",
    "Recurso com a lista dos pareceres elaborados nas Comissões das matérias que tramitam ou tramitaram na Alesp.\n",
    "\n",
    "https://www.al.sp.gov.br/dados-abertos/recurso/103\n",
    "\n",
    "\n",
    "http://www.al.sp.gov.br/repositorioDados/processo_legislativo/propositura_parecer.zip"
   ]
  },
  {
   "cell_type": "code",
   "execution_count": 189,
   "metadata": {},
   "outputs": [
    {
     "name": "stdout",
     "output_type": "stream",
     "text": [
      "CPU times: user 849 ms, sys: 37.5 ms, total: 887 ms\n",
      "Wall time: 1.06 s\n"
     ]
    }
   ],
   "source": [
    "%%time\n",
    "alesp_tamitacao_parser.parse_propositura_parecer(False)"
   ]
  },
  {
   "cell_type": "code",
   "execution_count": 190,
   "metadata": {},
   "outputs": [
    {
     "name": "stderr",
     "output_type": "stream",
     "text": [
      "Uploading files: 100%|██████████| 1/1 [00:38<00:00, 38.20s/it]\n"
     ]
    }
   ],
   "source": [
    "tb = bd.Table('tramitacao_propositura_parecer','br_sp_alesp')\n",
    "    \n",
    "tb.create(\n",
    "    path='../data/tramitacoes/propositura_parecer.csv',\n",
    "    if_table_exists='replace',\n",
    "    if_storage_data_exists='replace',\n",
    "    if_table_config_exists='replace'\n",
    ")\n",
    "tb.publish('replace')"
   ]
  },
  {
   "cell_type": "code",
   "execution_count": null,
   "metadata": {},
   "outputs": [],
   "source": []
  },
  {
   "cell_type": "markdown",
   "metadata": {},
   "source": [
    "## Presença nas Comissões\n",
    "Presença dos Deputados Estaduais nas reuniões das Comissões Permanentes da Alesp.\n",
    "\n",
    "https://www.al.sp.gov.br/dados-abertos/recurso/53"
   ]
  },
  {
   "cell_type": "code",
   "execution_count": 107,
   "metadata": {},
   "outputs": [
    {
     "name": "stdout",
     "output_type": "stream",
     "text": [
      "CPU times: user 70 ms, sys: 0 ns, total: 70 ms\n",
      "Wall time: 81.9 ms\n"
     ]
    }
   ],
   "source": [
    "%%time\n",
    "df = alesp_tamitacao_parser.parse_comissoes_permanentes_presencas(False)"
   ]
  },
  {
   "cell_type": "code",
   "execution_count": 199,
   "metadata": {},
   "outputs": [
    {
     "name": "stderr",
     "output_type": "stream",
     "text": [
      "Uploading files: 100%|██████████| 1/1 [00:03<00:00,  3.01s/it]\n"
     ]
    }
   ],
   "source": [
    "tb = bd.Table('tramitacao_comissoes_permanentes_presencas','br_sp_alesp')\n",
    "    \n",
    "tb.create(\n",
    "    path='../data/tramitacoes/comissoes_permanentes_presencas.csv',\n",
    "    if_table_exists='replace',\n",
    "    if_storage_data_exists='replace',\n",
    "    if_table_config_exists='replace'\n",
    ")\n",
    "tb.publish('replace')"
   ]
  },
  {
   "cell_type": "code",
   "execution_count": 108,
   "metadata": {},
   "outputs": [],
   "source": []
  },
  {
   "cell_type": "code",
   "execution_count": null,
   "metadata": {},
   "outputs": [],
   "source": []
  },
  {
   "cell_type": "code",
   "execution_count": null,
   "metadata": {},
   "outputs": [],
   "source": []
  },
  {
   "cell_type": "markdown",
   "metadata": {},
   "source": [
    "## Proposituras\n",
    "Lista de proposituras apresentadas pelo Deputados Estaduais e que tramitam ou tramitaram no Processo Legislativo.\n",
    "https://www.al.sp.gov.br/dados-abertos/recurso/56"
   ]
  },
  {
   "cell_type": "code",
   "execution_count": 332,
   "metadata": {},
   "outputs": [
    {
     "name": "stdout",
     "output_type": "stream",
     "text": [
      "CPU times: user 1.55 s, sys: 107 ms, total: 1.66 s\n",
      "Wall time: 2.11 s\n"
     ]
    }
   ],
   "source": [
    "%%time\n",
    "df = alesp_tamitacao_parser.parse_proposituras(False)"
   ]
  },
  {
   "cell_type": "code",
   "execution_count": 333,
   "metadata": {},
   "outputs": [
    {
     "name": "stderr",
     "output_type": "stream",
     "text": [
      "Uploading files: 100%|██████████| 1/1 [01:02<00:00, 62.02s/it]\n"
     ]
    }
   ],
   "source": [
    "tb = bd.Table('tramitacao_proposituras','br_sp_alesp')\n",
    "    \n",
    "tb.create(\n",
    "    path='../data/tramitacoes/proposituras.csv',\n",
    "    if_table_exists='replace',\n",
    "    if_storage_data_exists='replace',\n",
    "    if_table_config_exists='replace'\n",
    ")\n",
    "tb.publish('replace')"
   ]
  },
  {
   "cell_type": "code",
   "execution_count": null,
   "metadata": {},
   "outputs": [],
   "source": []
  },
  {
   "cell_type": "markdown",
   "metadata": {},
   "source": [
    "## Regimes de Tramitação das Proposituras\n",
    "Dados dos regimes de tramitação das proposituras.\n",
    "\n",
    "https://www.al.sp.gov.br/dados-abertos/recurso/56"
   ]
  },
  {
   "cell_type": "code",
   "execution_count": 227,
   "metadata": {},
   "outputs": [
    {
     "name": "stdout",
     "output_type": "stream",
     "text": [
      "CPU times: user 982 ms, sys: 84.8 ms, total: 1.07 s\n",
      "Wall time: 1.31 s\n"
     ]
    }
   ],
   "source": [
    "%%time\n",
    "alesp_tamitacao_parser.parse_documento_regime(False)"
   ]
  },
  {
   "cell_type": "code",
   "execution_count": 229,
   "metadata": {},
   "outputs": [
    {
     "name": "stderr",
     "output_type": "stream",
     "text": [
      "Uploading files: 100%|██████████| 1/1 [00:45<00:00, 45.36s/it]\n"
     ]
    }
   ],
   "source": [
    "tb = bd.Table('tramitacao_documento_regime','br_sp_alesp')\n",
    "    \n",
    "tb.create(\n",
    "    path='../data/tramitacoes/documento_regime.csv',\n",
    "    if_table_exists='replace',\n",
    "    if_storage_data_exists='replace',\n",
    "    if_table_config_exists='replace'\n",
    ")\n",
    "tb.publish('replace')"
   ]
  },
  {
   "cell_type": "code",
   "execution_count": null,
   "metadata": {},
   "outputs": [],
   "source": []
  },
  {
   "cell_type": "markdown",
   "metadata": {},
   "source": [
    "## Reuniões de Comissão\n",
    "\n",
    "Lista das reuniões realizadas nas Comissões Permanentes da Alesp.\n",
    "\n",
    "https://www.al.sp.gov.br/dados-abertos/recurso/56"
   ]
  },
  {
   "cell_type": "code",
   "execution_count": 239,
   "metadata": {},
   "outputs": [
    {
     "name": "stdout",
     "output_type": "stream",
     "text": [
      "CPU times: user 30.9 ms, sys: 151 µs, total: 31 ms\n",
      "Wall time: 34.6 ms\n"
     ]
    }
   ],
   "source": [
    "%%time\n",
    "alesp_tamitacao_parser.parse_comissoes_permanentes_reunioes(False)"
   ]
  },
  {
   "cell_type": "code",
   "execution_count": 240,
   "metadata": {},
   "outputs": [
    {
     "name": "stderr",
     "output_type": "stream",
     "text": [
      "Uploading files: 100%|██████████| 1/1 [00:01<00:00,  1.91s/it]\n"
     ]
    }
   ],
   "source": [
    "tb = bd.Table('tramitacao_comissoes_permanentes_reunioes','br_sp_alesp')\n",
    "tb.create(\n",
    "    path='../data/tramitacoes/comissoes_permanentes_reunioes.csv',\n",
    "    if_table_exists='replace',\n",
    "    if_storage_data_exists='replace',\n",
    "    if_table_config_exists='replace'\n",
    ")\n",
    "tb.publish('replace')"
   ]
  },
  {
   "cell_type": "code",
   "execution_count": null,
   "metadata": {},
   "outputs": [],
   "source": []
  },
  {
   "cell_type": "markdown",
   "metadata": {},
   "source": [
    "## Votações nas Comissões\n",
    "\n",
    "Lista das votações nas deliberações das matérias que tramitam nas Comissões Permanentes da Alesp.\n",
    "\n",
    "https://www.al.sp.gov.br/dados-abertos/recurso/55"
   ]
  },
  {
   "cell_type": "code",
   "execution_count": 110,
   "metadata": {},
   "outputs": [
    {
     "name": "stdout",
     "output_type": "stream",
     "text": [
      "CPU times: user 493 ms, sys: 11.5 ms, total: 505 ms\n",
      "Wall time: 593 ms\n"
     ]
    }
   ],
   "source": [
    "%%time\n",
    "alesp_tamitacao_parser.parse_comissoes_permanentes_votacoes(False)"
   ]
  },
  {
   "cell_type": "code",
   "execution_count": 247,
   "metadata": {},
   "outputs": [
    {
     "name": "stderr",
     "output_type": "stream",
     "text": [
      "Uploading files: 100%|██████████| 1/1 [00:20<00:00, 20.03s/it]\n"
     ]
    }
   ],
   "source": [
    "tb = bd.Table('tramitacao_comissoes_permanentes_votacoes','br_sp_alesp')\n",
    "    \n",
    "tb.create(\n",
    "    path='../data/tramitacoes/comissoes_permanentes_votacoes.csv',\n",
    "    if_table_exists='replace',\n",
    "    if_storage_data_exists='replace',\n",
    "    if_table_config_exists='replace'\n",
    ")\n",
    "tb.publish('replace')"
   ]
  },
  {
   "cell_type": "code",
   "execution_count": null,
   "metadata": {},
   "outputs": [],
   "source": []
  },
  {
   "cell_type": "markdown",
   "metadata": {},
   "source": [
    "##  --->>>  Tramitações atuais\n",
    "\n",
    "https://www.al.sp.gov.br/dados-abertos/recurso/221"
   ]
  },
  {
   "cell_type": "code",
   "execution_count": 325,
   "metadata": {},
   "outputs": [
    {
     "name": "stdout",
     "output_type": "stream",
     "text": [
      "CPU times: user 559 ms, sys: 19.7 ms, total: 578 ms\n",
      "Wall time: 701 ms\n"
     ]
    }
   ],
   "source": [
    "%%time\n",
    "alesp_tamitacao_parser.parse_documento_andamento_atual(False)"
   ]
  },
  {
   "cell_type": "code",
   "execution_count": 327,
   "metadata": {},
   "outputs": [
    {
     "name": "stderr",
     "output_type": "stream",
     "text": [
      "Uploading files: 100%|██████████| 1/1 [00:22<00:00, 22.65s/it]\n"
     ]
    }
   ],
   "source": [
    "tb = bd.Table('tramitacao_documento_andamento_atual','br_sp_alesp')\n",
    "    \n",
    "tb.create(\n",
    "    path='../data/tramitacoes/documento_andamento_atual.csv',\n",
    "    if_table_exists='replace',\n",
    "    if_storage_data_exists='replace',\n",
    "    if_table_config_exists='replace'\n",
    ")\n",
    "tb.publish('replace')"
   ]
  },
  {
   "cell_type": "code",
   "execution_count": null,
   "metadata": {},
   "outputs": [],
   "source": []
  },
  {
   "cell_type": "markdown",
   "metadata": {},
   "source": [
    "## Tramitações\n",
    "\n",
    "Recurso com os andamentos das matérias que tramitam ou tramitaram na Alesp.\n",
    "\n",
    "https://www.al.sp.gov.br/dados-abertos/recurso/101"
   ]
  },
  {
   "cell_type": "code",
   "execution_count": null,
   "metadata": {},
   "outputs": [],
   "source": [
    "# %%time\n",
    "# alesp_tamitacao_parser.parse_documento_andamento(False)"
   ]
  },
  {
   "cell_type": "code",
   "execution_count": null,
   "metadata": {},
   "outputs": [],
   "source": [
    "# tb = bd.Table('tramitacao_documento_andamento','br_sp_alesp')\n",
    "    \n",
    "# tb.create(\n",
    "#     path='../data/tramitacoes/documento_andamento.csv',\n",
    "#     if_table_exists='replace',\n",
    "#     if_storage_data_exists='replace',\n",
    "#     if_table_config_exists='raise'\n",
    "# )\n"
   ]
  },
  {
   "cell_type": "code",
   "execution_count": null,
   "metadata": {},
   "outputs": [],
   "source": [
    "# tb.publish('replace')"
   ]
  },
  {
   "cell_type": "code",
   "execution_count": null,
   "metadata": {},
   "outputs": [],
   "source": []
  },
  {
   "cell_type": "code",
   "execution_count": null,
   "metadata": {},
   "outputs": [],
   "source": []
  },
  {
   "cell_type": "code",
   "execution_count": null,
   "metadata": {},
   "outputs": [],
   "source": []
  },
  {
   "cell_type": "code",
   "execution_count": null,
   "metadata": {},
   "outputs": [],
   "source": []
  },
  {
   "cell_type": "code",
   "execution_count": null,
   "metadata": {},
   "outputs": [],
   "source": []
  },
  {
   "cell_type": "code",
   "execution_count": null,
   "metadata": {},
   "outputs": [],
   "source": []
  },
  {
   "cell_type": "code",
   "execution_count": null,
   "metadata": {},
   "outputs": [],
   "source": []
  },
  {
   "cell_type": "code",
   "execution_count": null,
   "metadata": {},
   "outputs": [],
   "source": []
  }
 ],
 "metadata": {
  "kernelspec": {
   "display_name": "Python 3",
   "language": "python",
   "name": "python3"
  },
  "language_info": {
   "codemirror_mode": {
    "name": "ipython",
    "version": 3
   },
   "file_extension": ".py",
   "mimetype": "text/x-python",
   "name": "python",
   "nbconvert_exporter": "python",
   "pygments_lexer": "ipython3",
   "version": "3.8.3"
  }
 },
 "nbformat": 4,
 "nbformat_minor": 4
}
